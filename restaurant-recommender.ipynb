{
 "cells": [
  {
   "cell_type": "markdown",
   "metadata": {},
   "source": [
    "# Restaurant Recommender System SVD"
   ]
  },
  {
   "cell_type": "code",
   "execution_count": 9,
   "metadata": {},
   "outputs": [],
   "source": [
    "# import libraries\n",
    "from collections import defaultdict\n",
    "\n",
    "import pandas as pd\n",
    "import numpy as np\n",
    "from surprise.model_selection import train_test_split\n",
    "from surprise import SVD, SVDpp\n",
    "from surprise import Dataset\n",
    "from surprise.model_selection import cross_validate\n",
    "from surprise.reader import Reader\n",
    "from surprise import accuracy"
   ]
  },
  {
   "cell_type": "code",
   "execution_count": 10,
   "metadata": {},
   "outputs": [
    {
     "data": {
      "text/html": [
       "<div>\n",
       "<style scoped>\n",
       "    .dataframe tbody tr th:only-of-type {\n",
       "        vertical-align: middle;\n",
       "    }\n",
       "\n",
       "    .dataframe tbody tr th {\n",
       "        vertical-align: top;\n",
       "    }\n",
       "\n",
       "    .dataframe thead th {\n",
       "        text-align: right;\n",
       "    }\n",
       "</style>\n",
       "<table border=\"1\" class=\"dataframe\">\n",
       "  <thead>\n",
       "    <tr style=\"text-align: right;\">\n",
       "      <th></th>\n",
       "      <th>Gender</th>\n",
       "      <th>Age</th>\n",
       "      <th>LatestRestaurants</th>\n",
       "      <th>Top3Fav</th>\n",
       "      <th>Top3Unfav</th>\n",
       "      <th>Another Hound</th>\n",
       "      <th>Four season</th>\n",
       "      <th>Town House</th>\n",
       "      <th>Vivarium</th>\n",
       "      <th>MCDONALD'S</th>\n",
       "      <th>...</th>\n",
       "      <th>Tudari</th>\n",
       "      <th>Bonchon</th>\n",
       "      <th>Veganarie</th>\n",
       "      <th>Viet cuisine</th>\n",
       "      <th>La Creperie</th>\n",
       "      <th>Piri Piri flaming grill</th>\n",
       "      <th>Kloset</th>\n",
       "      <th>Boon Tong Kee</th>\n",
       "      <th>Coffee Beans by Dao</th>\n",
       "      <th>Suki Masa</th>\n",
       "    </tr>\n",
       "  </thead>\n",
       "  <tbody>\n",
       "    <tr>\n",
       "      <th>0</th>\n",
       "      <td>หญิง</td>\n",
       "      <td>19-25 ปี</td>\n",
       "      <td>Another Hound, MCDONALD'S, Burger King, Subway...</td>\n",
       "      <td>Another Hound, แหลมเจริญซีฟู้ด, Bankara Ramen</td>\n",
       "      <td>Chabuton, Sabotan, Sushi Den</td>\n",
       "      <td>5.0</td>\n",
       "      <td>3.0</td>\n",
       "      <td>3.0</td>\n",
       "      <td>3.0</td>\n",
       "      <td>5.0</td>\n",
       "      <td>...</td>\n",
       "      <td>NaN</td>\n",
       "      <td>4.0</td>\n",
       "      <td>NaN</td>\n",
       "      <td>NaN</td>\n",
       "      <td>NaN</td>\n",
       "      <td>NaN</td>\n",
       "      <td>NaN</td>\n",
       "      <td>NaN</td>\n",
       "      <td>NaN</td>\n",
       "      <td>NaN</td>\n",
       "    </tr>\n",
       "    <tr>\n",
       "      <th>1</th>\n",
       "      <td>หญิง</td>\n",
       "      <td>19-25 ปี</td>\n",
       "      <td>Four Season, Subway, Tacobell, Evaime Shabu, V...</td>\n",
       "      <td>Four Season, แหลมเจริญซีฟู้ด, Veganarie</td>\n",
       "      <td>MCDONALD'S, KFC, ฝ้ายซอคำ</td>\n",
       "      <td>4.0</td>\n",
       "      <td>5.0</td>\n",
       "      <td>NaN</td>\n",
       "      <td>NaN</td>\n",
       "      <td>1.0</td>\n",
       "      <td>...</td>\n",
       "      <td>NaN</td>\n",
       "      <td>3.0</td>\n",
       "      <td>5.0</td>\n",
       "      <td>4.0</td>\n",
       "      <td>4.0</td>\n",
       "      <td>NaN</td>\n",
       "      <td>2.0</td>\n",
       "      <td>NaN</td>\n",
       "      <td>NaN</td>\n",
       "      <td>NaN</td>\n",
       "    </tr>\n",
       "    <tr>\n",
       "      <th>2</th>\n",
       "      <td>หญิง</td>\n",
       "      <td>19-25 ปี</td>\n",
       "      <td>แหลมเจริญซีฟู้ด, Ootoya, บ้านไอซ์, Veganarie, ...</td>\n",
       "      <td>Ootoya, Veganarie, Viet cuisine</td>\n",
       "      <td>KFC, Oishi Grand Buffet, Wa Q Yakiniku</td>\n",
       "      <td>4.0</td>\n",
       "      <td>3.0</td>\n",
       "      <td>NaN</td>\n",
       "      <td>NaN</td>\n",
       "      <td>3.0</td>\n",
       "      <td>...</td>\n",
       "      <td>NaN</td>\n",
       "      <td>3.0</td>\n",
       "      <td>5.0</td>\n",
       "      <td>5.0</td>\n",
       "      <td>3.0</td>\n",
       "      <td>NaN</td>\n",
       "      <td>NaN</td>\n",
       "      <td>4.0</td>\n",
       "      <td>NaN</td>\n",
       "      <td>NaN</td>\n",
       "    </tr>\n",
       "    <tr>\n",
       "      <th>3</th>\n",
       "      <td>หญิง</td>\n",
       "      <td>19-25 ปี</td>\n",
       "      <td>Mos Burger, Subway, Ootoya, รสนิยม, Viet cuisine</td>\n",
       "      <td>Subway, แหลมเจริญซีฟู้ด, Viet cuisine</td>\n",
       "      <td>Oishi Grand Buffet, Crab &amp; Claw, เตี๋ยวตาโต</td>\n",
       "      <td>4.0</td>\n",
       "      <td>4.0</td>\n",
       "      <td>3.0</td>\n",
       "      <td>3.0</td>\n",
       "      <td>3.0</td>\n",
       "      <td>...</td>\n",
       "      <td>3.0</td>\n",
       "      <td>4.0</td>\n",
       "      <td>4.0</td>\n",
       "      <td>4.0</td>\n",
       "      <td>3.0</td>\n",
       "      <td>3.0</td>\n",
       "      <td>3.0</td>\n",
       "      <td>4.0</td>\n",
       "      <td>NaN</td>\n",
       "      <td>NaN</td>\n",
       "    </tr>\n",
       "    <tr>\n",
       "      <th>4</th>\n",
       "      <td>ชาย</td>\n",
       "      <td>19-25 ปี</td>\n",
       "      <td>MCDONALD'S, COCO ichibanya, Ootoya, ตะลิงปลิง,...</td>\n",
       "      <td>MCDONALD'S, COCO ichibanya, เนื้อคู่</td>\n",
       "      <td>MK Gold Restaurant, Oishi Grand Buffet, Scala ...</td>\n",
       "      <td>4.0</td>\n",
       "      <td>3.0</td>\n",
       "      <td>3.0</td>\n",
       "      <td>3.0</td>\n",
       "      <td>4.0</td>\n",
       "      <td>...</td>\n",
       "      <td>3.0</td>\n",
       "      <td>4.0</td>\n",
       "      <td>NaN</td>\n",
       "      <td>4.0</td>\n",
       "      <td>NaN</td>\n",
       "      <td>4.0</td>\n",
       "      <td>NaN</td>\n",
       "      <td>4.0</td>\n",
       "      <td>NaN</td>\n",
       "      <td>NaN</td>\n",
       "    </tr>\n",
       "  </tbody>\n",
       "</table>\n",
       "<p>5 rows × 66 columns</p>\n",
       "</div>"
      ],
      "text/plain": [
       "  Gender       Age                                  LatestRestaurants  \\\n",
       "0   หญิง  19-25 ปี  Another Hound, MCDONALD'S, Burger King, Subway...   \n",
       "1   หญิง  19-25 ปี  Four Season, Subway, Tacobell, Evaime Shabu, V...   \n",
       "2   หญิง  19-25 ปี  แหลมเจริญซีฟู้ด, Ootoya, บ้านไอซ์, Veganarie, ...   \n",
       "3   หญิง  19-25 ปี   Mos Burger, Subway, Ootoya, รสนิยม, Viet cuisine   \n",
       "4    ชาย  19-25 ปี  MCDONALD'S, COCO ichibanya, Ootoya, ตะลิงปลิง,...   \n",
       "\n",
       "                                         Top3Fav  \\\n",
       "0  Another Hound, แหลมเจริญซีฟู้ด, Bankara Ramen   \n",
       "1        Four Season, แหลมเจริญซีฟู้ด, Veganarie   \n",
       "2                Ootoya, Veganarie, Viet cuisine   \n",
       "3          Subway, แหลมเจริญซีฟู้ด, Viet cuisine   \n",
       "4           MCDONALD'S, COCO ichibanya, เนื้อคู่   \n",
       "\n",
       "                                           Top3Unfav  Another Hound  \\\n",
       "0                       Chabuton, Sabotan, Sushi Den            5.0   \n",
       "1                          MCDONALD'S, KFC, ฝ้ายซอคำ            4.0   \n",
       "2             KFC, Oishi Grand Buffet, Wa Q Yakiniku            4.0   \n",
       "3        Oishi Grand Buffet, Crab & Claw, เตี๋ยวตาโต            4.0   \n",
       "4  MK Gold Restaurant, Oishi Grand Buffet, Scala ...            4.0   \n",
       "\n",
       "   Four season  Town House  Vivarium  MCDONALD'S  ...  Tudari  Bonchon  \\\n",
       "0          3.0         3.0       3.0         5.0  ...     NaN      4.0   \n",
       "1          5.0         NaN       NaN         1.0  ...     NaN      3.0   \n",
       "2          3.0         NaN       NaN         3.0  ...     NaN      3.0   \n",
       "3          4.0         3.0       3.0         3.0  ...     3.0      4.0   \n",
       "4          3.0         3.0       3.0         4.0  ...     3.0      4.0   \n",
       "\n",
       "   Veganarie  Viet cuisine  La Creperie   Piri Piri flaming grill  Kloset  \\\n",
       "0        NaN           NaN           NaN                      NaN     NaN   \n",
       "1        5.0           4.0           4.0                      NaN     2.0   \n",
       "2        5.0           5.0           3.0                      NaN     NaN   \n",
       "3        4.0           4.0           3.0                      3.0     3.0   \n",
       "4        NaN           4.0           NaN                      4.0     NaN   \n",
       "\n",
       "   Boon Tong Kee  Coffee Beans by Dao  Suki Masa  \n",
       "0            NaN                  NaN        NaN  \n",
       "1            NaN                  NaN        NaN  \n",
       "2            4.0                  NaN        NaN  \n",
       "3            4.0                  NaN        NaN  \n",
       "4            4.0                  NaN        NaN  \n",
       "\n",
       "[5 rows x 66 columns]"
      ]
     },
     "execution_count": 10,
     "metadata": {},
     "output_type": "execute_result"
    }
   ],
   "source": [
    "# import data \n",
    "\n",
    "ratings = pd.read_csv('Desktop/pmf.csv')\n",
    "ratings.head()"
   ]
  },
  {
   "cell_type": "code",
   "execution_count": 11,
   "metadata": {},
   "outputs": [
    {
     "data": {
      "text/html": [
       "<div>\n",
       "<style scoped>\n",
       "    .dataframe tbody tr th:only-of-type {\n",
       "        vertical-align: middle;\n",
       "    }\n",
       "\n",
       "    .dataframe tbody tr th {\n",
       "        vertical-align: top;\n",
       "    }\n",
       "\n",
       "    .dataframe thead th {\n",
       "        text-align: right;\n",
       "    }\n",
       "</style>\n",
       "<table border=\"1\" class=\"dataframe\">\n",
       "  <thead>\n",
       "    <tr style=\"text-align: right;\">\n",
       "      <th></th>\n",
       "      <th>Another Hound</th>\n",
       "      <th>Four season</th>\n",
       "      <th>Town House</th>\n",
       "      <th>Vivarium</th>\n",
       "      <th>MCDONALD'S</th>\n",
       "      <th>Burger King</th>\n",
       "      <th>KFC</th>\n",
       "      <th>Mos Burger</th>\n",
       "      <th>Subway</th>\n",
       "      <th>Tacobell</th>\n",
       "      <th>...</th>\n",
       "      <th>Tudari</th>\n",
       "      <th>Bonchon</th>\n",
       "      <th>Veganarie</th>\n",
       "      <th>Viet cuisine</th>\n",
       "      <th>La Creperie</th>\n",
       "      <th>Piri Piri flaming grill</th>\n",
       "      <th>Kloset</th>\n",
       "      <th>Boon Tong Kee</th>\n",
       "      <th>Coffee Beans by Dao</th>\n",
       "      <th>Suki Masa</th>\n",
       "    </tr>\n",
       "  </thead>\n",
       "  <tbody>\n",
       "    <tr>\n",
       "      <th>0</th>\n",
       "      <td>5.0</td>\n",
       "      <td>3.0</td>\n",
       "      <td>3.0</td>\n",
       "      <td>3.0</td>\n",
       "      <td>5.0</td>\n",
       "      <td>5.0</td>\n",
       "      <td>5.0</td>\n",
       "      <td>3.0</td>\n",
       "      <td>5.0</td>\n",
       "      <td>4.0</td>\n",
       "      <td>...</td>\n",
       "      <td>NaN</td>\n",
       "      <td>4.0</td>\n",
       "      <td>NaN</td>\n",
       "      <td>NaN</td>\n",
       "      <td>NaN</td>\n",
       "      <td>NaN</td>\n",
       "      <td>NaN</td>\n",
       "      <td>NaN</td>\n",
       "      <td>NaN</td>\n",
       "      <td>NaN</td>\n",
       "    </tr>\n",
       "    <tr>\n",
       "      <th>1</th>\n",
       "      <td>4.0</td>\n",
       "      <td>5.0</td>\n",
       "      <td>NaN</td>\n",
       "      <td>NaN</td>\n",
       "      <td>1.0</td>\n",
       "      <td>2.0</td>\n",
       "      <td>1.0</td>\n",
       "      <td>NaN</td>\n",
       "      <td>4.0</td>\n",
       "      <td>4.0</td>\n",
       "      <td>...</td>\n",
       "      <td>NaN</td>\n",
       "      <td>3.0</td>\n",
       "      <td>5.0</td>\n",
       "      <td>4.0</td>\n",
       "      <td>4.0</td>\n",
       "      <td>NaN</td>\n",
       "      <td>2.0</td>\n",
       "      <td>NaN</td>\n",
       "      <td>NaN</td>\n",
       "      <td>NaN</td>\n",
       "    </tr>\n",
       "    <tr>\n",
       "      <th>2</th>\n",
       "      <td>4.0</td>\n",
       "      <td>3.0</td>\n",
       "      <td>NaN</td>\n",
       "      <td>NaN</td>\n",
       "      <td>3.0</td>\n",
       "      <td>3.0</td>\n",
       "      <td>2.0</td>\n",
       "      <td>NaN</td>\n",
       "      <td>4.0</td>\n",
       "      <td>4.0</td>\n",
       "      <td>...</td>\n",
       "      <td>NaN</td>\n",
       "      <td>3.0</td>\n",
       "      <td>5.0</td>\n",
       "      <td>5.0</td>\n",
       "      <td>3.0</td>\n",
       "      <td>NaN</td>\n",
       "      <td>NaN</td>\n",
       "      <td>4.0</td>\n",
       "      <td>NaN</td>\n",
       "      <td>NaN</td>\n",
       "    </tr>\n",
       "    <tr>\n",
       "      <th>3</th>\n",
       "      <td>4.0</td>\n",
       "      <td>4.0</td>\n",
       "      <td>3.0</td>\n",
       "      <td>3.0</td>\n",
       "      <td>3.0</td>\n",
       "      <td>3.0</td>\n",
       "      <td>3.0</td>\n",
       "      <td>4.0</td>\n",
       "      <td>4.0</td>\n",
       "      <td>4.0</td>\n",
       "      <td>...</td>\n",
       "      <td>3.0</td>\n",
       "      <td>4.0</td>\n",
       "      <td>4.0</td>\n",
       "      <td>4.0</td>\n",
       "      <td>3.0</td>\n",
       "      <td>3.0</td>\n",
       "      <td>3.0</td>\n",
       "      <td>4.0</td>\n",
       "      <td>NaN</td>\n",
       "      <td>NaN</td>\n",
       "    </tr>\n",
       "    <tr>\n",
       "      <th>4</th>\n",
       "      <td>4.0</td>\n",
       "      <td>3.0</td>\n",
       "      <td>3.0</td>\n",
       "      <td>3.0</td>\n",
       "      <td>4.0</td>\n",
       "      <td>4.0</td>\n",
       "      <td>4.0</td>\n",
       "      <td>4.0</td>\n",
       "      <td>4.0</td>\n",
       "      <td>4.0</td>\n",
       "      <td>...</td>\n",
       "      <td>3.0</td>\n",
       "      <td>4.0</td>\n",
       "      <td>NaN</td>\n",
       "      <td>4.0</td>\n",
       "      <td>NaN</td>\n",
       "      <td>4.0</td>\n",
       "      <td>NaN</td>\n",
       "      <td>4.0</td>\n",
       "      <td>NaN</td>\n",
       "      <td>NaN</td>\n",
       "    </tr>\n",
       "  </tbody>\n",
       "</table>\n",
       "<p>5 rows × 61 columns</p>\n",
       "</div>"
      ],
      "text/plain": [
       "   Another Hound  Four season  Town House  Vivarium  MCDONALD'S  Burger King  \\\n",
       "0            5.0          3.0         3.0       3.0         5.0          5.0   \n",
       "1            4.0          5.0         NaN       NaN         1.0          2.0   \n",
       "2            4.0          3.0         NaN       NaN         3.0          3.0   \n",
       "3            4.0          4.0         3.0       3.0         3.0          3.0   \n",
       "4            4.0          3.0         3.0       3.0         4.0          4.0   \n",
       "\n",
       "   KFC   Mos Burger  Subway  Tacobell  ...  Tudari  Bonchon  Veganarie  \\\n",
       "0   5.0         3.0     5.0       4.0  ...     NaN      4.0        NaN   \n",
       "1   1.0         NaN     4.0       4.0  ...     NaN      3.0        5.0   \n",
       "2   2.0         NaN     4.0       4.0  ...     NaN      3.0        5.0   \n",
       "3   3.0         4.0     4.0       4.0  ...     3.0      4.0        4.0   \n",
       "4   4.0         4.0     4.0       4.0  ...     3.0      4.0        NaN   \n",
       "\n",
       "   Viet cuisine  La Creperie   Piri Piri flaming grill  Kloset  Boon Tong Kee  \\\n",
       "0           NaN           NaN                      NaN     NaN            NaN   \n",
       "1           4.0           4.0                      NaN     2.0            NaN   \n",
       "2           5.0           3.0                      NaN     NaN            4.0   \n",
       "3           4.0           3.0                      3.0     3.0            4.0   \n",
       "4           4.0           NaN                      4.0     NaN            4.0   \n",
       "\n",
       "   Coffee Beans by Dao  Suki Masa  \n",
       "0                  NaN        NaN  \n",
       "1                  NaN        NaN  \n",
       "2                  NaN        NaN  \n",
       "3                  NaN        NaN  \n",
       "4                  NaN        NaN  \n",
       "\n",
       "[5 rows x 61 columns]"
      ]
     },
     "execution_count": 11,
     "metadata": {},
     "output_type": "execute_result"
    }
   ],
   "source": [
    "original_ratings = ratings\n",
    "\n",
    "ratings = ratings.drop(['Gender','Age','LatestRestaurants','Top3Fav','Top3Unfav'], axis=1)\n",
    "\n",
    "ratings.head()"
   ]
  },
  {
   "cell_type": "code",
   "execution_count": 12,
   "metadata": {},
   "outputs": [
    {
     "data": {
      "text/html": [
       "<div>\n",
       "<style scoped>\n",
       "    .dataframe tbody tr th:only-of-type {\n",
       "        vertical-align: middle;\n",
       "    }\n",
       "\n",
       "    .dataframe tbody tr th {\n",
       "        vertical-align: top;\n",
       "    }\n",
       "\n",
       "    .dataframe thead th {\n",
       "        text-align: right;\n",
       "    }\n",
       "</style>\n",
       "<table border=\"1\" class=\"dataframe\">\n",
       "  <thead>\n",
       "    <tr style=\"text-align: right;\">\n",
       "      <th></th>\n",
       "      <th>userId</th>\n",
       "      <th>Restaurant</th>\n",
       "      <th>ratings</th>\n",
       "    </tr>\n",
       "  </thead>\n",
       "  <tbody>\n",
       "    <tr>\n",
       "      <th>0</th>\n",
       "      <td>0</td>\n",
       "      <td>Another Hound</td>\n",
       "      <td>5.0</td>\n",
       "    </tr>\n",
       "    <tr>\n",
       "      <th>1</th>\n",
       "      <td>0</td>\n",
       "      <td>Four season</td>\n",
       "      <td>3.0</td>\n",
       "    </tr>\n",
       "    <tr>\n",
       "      <th>2</th>\n",
       "      <td>0</td>\n",
       "      <td>Town House</td>\n",
       "      <td>3.0</td>\n",
       "    </tr>\n",
       "    <tr>\n",
       "      <th>3</th>\n",
       "      <td>0</td>\n",
       "      <td>Vivarium</td>\n",
       "      <td>3.0</td>\n",
       "    </tr>\n",
       "    <tr>\n",
       "      <th>4</th>\n",
       "      <td>0</td>\n",
       "      <td>MCDONALD'S</td>\n",
       "      <td>5.0</td>\n",
       "    </tr>\n",
       "    <tr>\n",
       "      <th>...</th>\n",
       "      <td>...</td>\n",
       "      <td>...</td>\n",
       "      <td>...</td>\n",
       "    </tr>\n",
       "    <tr>\n",
       "      <th>16391</th>\n",
       "      <td>496</td>\n",
       "      <td>Veganarie</td>\n",
       "      <td>5.0</td>\n",
       "    </tr>\n",
       "    <tr>\n",
       "      <th>16392</th>\n",
       "      <td>496</td>\n",
       "      <td>Viet cuisine</td>\n",
       "      <td>4.0</td>\n",
       "    </tr>\n",
       "    <tr>\n",
       "      <th>16393</th>\n",
       "      <td>496</td>\n",
       "      <td>Piri Piri flaming grill</td>\n",
       "      <td>3.0</td>\n",
       "    </tr>\n",
       "    <tr>\n",
       "      <th>16394</th>\n",
       "      <td>496</td>\n",
       "      <td>Boon Tong Kee</td>\n",
       "      <td>3.0</td>\n",
       "    </tr>\n",
       "    <tr>\n",
       "      <th>16395</th>\n",
       "      <td>496</td>\n",
       "      <td>Coffee Beans by Dao</td>\n",
       "      <td>3.0</td>\n",
       "    </tr>\n",
       "  </tbody>\n",
       "</table>\n",
       "<p>16396 rows × 3 columns</p>\n",
       "</div>"
      ],
      "text/plain": [
       "       userId               Restaurant  ratings\n",
       "0           0            Another Hound      5.0\n",
       "1           0              Four season      3.0\n",
       "2           0               Town House      3.0\n",
       "3           0                 Vivarium      3.0\n",
       "4           0               MCDONALD'S      5.0\n",
       "...       ...                      ...      ...\n",
       "16391     496                Veganarie      5.0\n",
       "16392     496             Viet cuisine      4.0\n",
       "16393     496  Piri Piri flaming grill      3.0\n",
       "16394     496            Boon Tong Kee      3.0\n",
       "16395     496      Coffee Beans by Dao      3.0\n",
       "\n",
       "[16396 rows x 3 columns]"
      ]
     },
     "execution_count": 12,
     "metadata": {},
     "output_type": "execute_result"
    }
   ],
   "source": [
    "ratings_df = ratings.stack().reset_index()\n",
    "ratings_df.columns = ['userId','Restaurant','ratings']\n",
    "ratings_df"
   ]
  },
  {
   "cell_type": "markdown",
   "metadata": {},
   "source": [
    "## SVD instance"
   ]
  },
  {
   "cell_type": "code",
   "execution_count": 13,
   "metadata": {},
   "outputs": [
    {
     "data": {
      "text/plain": [
       "<surprise.prediction_algorithms.matrix_factorization.SVD at 0x10ff9ca00>"
      ]
     },
     "execution_count": 13,
     "metadata": {},
     "output_type": "execute_result"
    }
   ],
   "source": [
    "# create Surpirse.Dataset from pandas.DataFrame\n",
    "dataset = Dataset.load_from_df(ratings_df[['userId', 'Restaurant', 'ratings']], Reader())\n",
    "trainset = dataset.build_full_trainset()\n",
    "\n",
    "algo = SVD(random_state=0)\n",
    "algo.fit(trainset)"
   ]
  },
  {
   "cell_type": "code",
   "execution_count": 14,
   "metadata": {},
   "outputs": [],
   "source": [
    "def get_user_prediction(uid, model):\n",
    "    return [model.predict(uid, res) for res in ratings.columns]\n",
    "\n",
    "def get_all_users_predictions(model):\n",
    "    return [preds for uid in ratings.index for preds in get_user_prediction(uid, model)]\n",
    "\n",
    "def get_top_n(predictions, n=10):\n",
    "    # First map the predictions to each user.\n",
    "    top_n = defaultdict(list)\n",
    "    for uid, iid, true_r, est, _ in predictions:\n",
    "        top_n[uid].append((iid, est))\n",
    "\n",
    "    # Then sort the predictions for each user and retrieve the k highest ones.\n",
    "    for uid, user_ratings in top_n.items():\n",
    "        user_ratings.sort(key=lambda x: x[1], reverse=True)\n",
    "        top_n[uid] = user_ratings[:n]\n",
    "\n",
    "    return top_n\n",
    "\n",
    "def recommend_new_restaurant(uid, n=5):\n",
    "    global algo\n",
    "    predictions = get_all_users_predictions(algo)\n",
    "    top_n = get_top_n(predictions, n=n*3)[uid]\n",
    "    already_tried_restaurant = set(ratings_df[ratings_df[\"userId\"] == uid][\"Restaurant\"].unique())\n",
    "    filtered_top_n = [x[0] for x in top_n if x[0] not in already_tried_restaurant][:n]\n",
    "    return filtered_top_n\n",
    "\n",
    "def update_data(uid, restaurant_name, rating):\n",
    "    global ratings_df, algo\n",
    "    ratings_df = ratings_df.append({\"userId\": uid, \"Restaurant\": restaurant_name, \"ratings\": rating}, ignore_index=True)\n",
    "    dataset = Dataset.load_from_df(ratings_df[['userId', 'Restaurant', 'ratings']], Reader())\n",
    "    trainset = dataset.build_full_trainset()\n",
    "\n",
    "    algo.fit(trainset)\n",
    "\n",
    "def similar_user(uid, n=5):\n",
    "    n_similar_users_with_scores = sorted(enumerate(algo.compute_similarities()[uid]), key=lambda x:-x[1])[:n]\n",
    "    return [u[0] for u in n_similar_users_with_scores]"
   ]
  },
  {
   "cell_type": "code",
   "execution_count": 50,
   "metadata": {},
   "outputs": [],
   "source": [
    "top3_actual = original_ratings[\"Top3Fav\"].apply(lambda x: np.array(x.split(\", \"))).values"
   ]
  },
  {
   "cell_type": "code",
   "execution_count": 45,
   "metadata": {},
   "outputs": [],
   "source": [
    "def my_loss(x, y):\n",
    "    return 1.0 - len(set(x).intersection(set(y)))/len(x)"
   ]
  },
  {
   "cell_type": "markdown",
   "metadata": {},
   "source": [
    "## Baseline prediction(random)"
   ]
  },
  {
   "cell_type": "code",
   "execution_count": 15,
   "metadata": {},
   "outputs": [],
   "source": [
    "from surprise import NormalPredictor"
   ]
  },
  {
   "cell_type": "code",
   "execution_count": 16,
   "metadata": {},
   "outputs": [],
   "source": [
    "random_algo = NormalPredictor()"
   ]
  },
  {
   "cell_type": "code",
   "execution_count": 17,
   "metadata": {},
   "outputs": [
    {
     "data": {
      "text/plain": [
       "<surprise.prediction_algorithms.random_pred.NormalPredictor at 0x10fcf3850>"
      ]
     },
     "execution_count": 17,
     "metadata": {},
     "output_type": "execute_result"
    }
   ],
   "source": [
    "random_algo.fit(trainset)"
   ]
  },
  {
   "cell_type": "code",
   "execution_count": 18,
   "metadata": {},
   "outputs": [],
   "source": [
    "random_top_3 = get_top_n(get_all_users_predictions(random_algo), n=3)\n",
    "random_top3_preds = np.array([[rec[0] for rec in random_top_3[i]] for i in original_ratings.index])"
   ]
  },
  {
   "cell_type": "code",
   "execution_count": 24,
   "metadata": {},
   "outputs": [
    {
     "data": {
      "text/plain": [
       "array([['KFC\\xa0', 'Saboten', 'Scoozi Pizza'],\n",
       "       ['Bankara Ramen', 'Ootoya', 'แสนแซ่บ'],\n",
       "       ['Chilli Thai Restaurant', 'ฝ้ายซอคำ', 'ทองสมิทธิ์'],\n",
       "       ...,\n",
       "       ['AOI', 'ตะลิงปลิง', 'เตี๋ยวตาโต'],\n",
       "       ['Vivarium', 'MK Gold Restaurant', 'Crab & Claw'],\n",
       "       ['แหลมเจริญซีฟู๊ด', 'Scoozi Pizza', 'Saboten']], dtype='<U32')"
      ]
     },
     "execution_count": 24,
     "metadata": {},
     "output_type": "execute_result"
    }
   ],
   "source": [
    "random_top3_preds"
   ]
  },
  {
   "cell_type": "code",
   "execution_count": 79,
   "metadata": {},
   "outputs": [],
   "source": [
    "random_loss_acc = []\n",
    "for i in range(len(top3_actual)):\n",
    "    random_loss_acc.append(my_loss(top3_actual[i], random_top3_preds[i]))"
   ]
  },
  {
   "cell_type": "code",
   "execution_count": 80,
   "metadata": {},
   "outputs": [
    {
     "data": {
      "text/plain": [
       "0.9537223340040242"
      ]
     },
     "execution_count": 80,
     "metadata": {},
     "output_type": "execute_result"
    }
   ],
   "source": [
    "np.mean(random_loss_acc)"
   ]
  },
  {
   "cell_type": "markdown",
   "metadata": {},
   "source": [
    "## Baseline prediction(popular)"
   ]
  },
  {
   "cell_type": "code",
   "execution_count": 37,
   "metadata": {},
   "outputs": [],
   "source": [
    "popular_top3 = ratings_df.groupby(\"Restaurant\").mean()[\"ratings\"].sort_values(ascending=False)[:3].keys().to_numpy().astype(\"<U24\")"
   ]
  },
  {
   "cell_type": "code",
   "execution_count": 46,
   "metadata": {},
   "outputs": [],
   "source": [
    "popular_loss_acc = []\n",
    "for i in range(len(top3_actual)):\n",
    "    popular_loss_acc.append(my_loss(top3_actual[i], popular_top3))"
   ]
  },
  {
   "cell_type": "code",
   "execution_count": 47,
   "metadata": {},
   "outputs": [
    {
     "data": {
      "text/plain": [
       "0.8819584171696847"
      ]
     },
     "execution_count": 47,
     "metadata": {},
     "output_type": "execute_result"
    }
   ],
   "source": [
    "np.mean(popular_loss_acc)"
   ]
  },
  {
   "cell_type": "markdown",
   "metadata": {},
   "source": [
    "## Multi-label classification evaluation\n",
    "\n"
   ]
  },
  {
   "cell_type": "code",
   "execution_count": 48,
   "metadata": {},
   "outputs": [
    {
     "data": {
      "text/html": [
       "<div>\n",
       "<style scoped>\n",
       "    .dataframe tbody tr th:only-of-type {\n",
       "        vertical-align: middle;\n",
       "    }\n",
       "\n",
       "    .dataframe tbody tr th {\n",
       "        vertical-align: top;\n",
       "    }\n",
       "\n",
       "    .dataframe thead th {\n",
       "        text-align: right;\n",
       "    }\n",
       "</style>\n",
       "<table border=\"1\" class=\"dataframe\">\n",
       "  <thead>\n",
       "    <tr style=\"text-align: right;\">\n",
       "      <th></th>\n",
       "      <th>Gender</th>\n",
       "      <th>Age</th>\n",
       "      <th>LatestRestaurants</th>\n",
       "      <th>Top3Fav</th>\n",
       "      <th>Top3Unfav</th>\n",
       "      <th>Another Hound</th>\n",
       "      <th>Four season</th>\n",
       "      <th>Town House</th>\n",
       "      <th>Vivarium</th>\n",
       "      <th>MCDONALD'S</th>\n",
       "      <th>...</th>\n",
       "      <th>Tudari</th>\n",
       "      <th>Bonchon</th>\n",
       "      <th>Veganarie</th>\n",
       "      <th>Viet cuisine</th>\n",
       "      <th>La Creperie</th>\n",
       "      <th>Piri Piri flaming grill</th>\n",
       "      <th>Kloset</th>\n",
       "      <th>Boon Tong Kee</th>\n",
       "      <th>Coffee Beans by Dao</th>\n",
       "      <th>Suki Masa</th>\n",
       "    </tr>\n",
       "  </thead>\n",
       "  <tbody>\n",
       "    <tr>\n",
       "      <th>0</th>\n",
       "      <td>หญิง</td>\n",
       "      <td>19-25 ปี</td>\n",
       "      <td>Another Hound, MCDONALD'S, Burger King, Subway...</td>\n",
       "      <td>Another Hound, แหลมเจริญซีฟู้ด, Bankara Ramen</td>\n",
       "      <td>Chabuton, Sabotan, Sushi Den</td>\n",
       "      <td>5.0</td>\n",
       "      <td>3.0</td>\n",
       "      <td>3.0</td>\n",
       "      <td>3.0</td>\n",
       "      <td>5.0</td>\n",
       "      <td>...</td>\n",
       "      <td>NaN</td>\n",
       "      <td>4.0</td>\n",
       "      <td>NaN</td>\n",
       "      <td>NaN</td>\n",
       "      <td>NaN</td>\n",
       "      <td>NaN</td>\n",
       "      <td>NaN</td>\n",
       "      <td>NaN</td>\n",
       "      <td>NaN</td>\n",
       "      <td>NaN</td>\n",
       "    </tr>\n",
       "    <tr>\n",
       "      <th>1</th>\n",
       "      <td>หญิง</td>\n",
       "      <td>19-25 ปี</td>\n",
       "      <td>Four Season, Subway, Tacobell, Evaime Shabu, V...</td>\n",
       "      <td>Four Season, แหลมเจริญซีฟู้ด, Veganarie</td>\n",
       "      <td>MCDONALD'S, KFC, ฝ้ายซอคำ</td>\n",
       "      <td>4.0</td>\n",
       "      <td>5.0</td>\n",
       "      <td>NaN</td>\n",
       "      <td>NaN</td>\n",
       "      <td>1.0</td>\n",
       "      <td>...</td>\n",
       "      <td>NaN</td>\n",
       "      <td>3.0</td>\n",
       "      <td>5.0</td>\n",
       "      <td>4.0</td>\n",
       "      <td>4.0</td>\n",
       "      <td>NaN</td>\n",
       "      <td>2.0</td>\n",
       "      <td>NaN</td>\n",
       "      <td>NaN</td>\n",
       "      <td>NaN</td>\n",
       "    </tr>\n",
       "    <tr>\n",
       "      <th>2</th>\n",
       "      <td>หญิง</td>\n",
       "      <td>19-25 ปี</td>\n",
       "      <td>แหลมเจริญซีฟู้ด, Ootoya, บ้านไอซ์, Veganarie, ...</td>\n",
       "      <td>Ootoya, Veganarie, Viet cuisine</td>\n",
       "      <td>KFC, Oishi Grand Buffet, Wa Q Yakiniku</td>\n",
       "      <td>4.0</td>\n",
       "      <td>3.0</td>\n",
       "      <td>NaN</td>\n",
       "      <td>NaN</td>\n",
       "      <td>3.0</td>\n",
       "      <td>...</td>\n",
       "      <td>NaN</td>\n",
       "      <td>3.0</td>\n",
       "      <td>5.0</td>\n",
       "      <td>5.0</td>\n",
       "      <td>3.0</td>\n",
       "      <td>NaN</td>\n",
       "      <td>NaN</td>\n",
       "      <td>4.0</td>\n",
       "      <td>NaN</td>\n",
       "      <td>NaN</td>\n",
       "    </tr>\n",
       "    <tr>\n",
       "      <th>3</th>\n",
       "      <td>หญิง</td>\n",
       "      <td>19-25 ปี</td>\n",
       "      <td>Mos Burger, Subway, Ootoya, รสนิยม, Viet cuisine</td>\n",
       "      <td>Subway, แหลมเจริญซีฟู้ด, Viet cuisine</td>\n",
       "      <td>Oishi Grand Buffet, Crab &amp; Claw, เตี๋ยวตาโต</td>\n",
       "      <td>4.0</td>\n",
       "      <td>4.0</td>\n",
       "      <td>3.0</td>\n",
       "      <td>3.0</td>\n",
       "      <td>3.0</td>\n",
       "      <td>...</td>\n",
       "      <td>3.0</td>\n",
       "      <td>4.0</td>\n",
       "      <td>4.0</td>\n",
       "      <td>4.0</td>\n",
       "      <td>3.0</td>\n",
       "      <td>3.0</td>\n",
       "      <td>3.0</td>\n",
       "      <td>4.0</td>\n",
       "      <td>NaN</td>\n",
       "      <td>NaN</td>\n",
       "    </tr>\n",
       "    <tr>\n",
       "      <th>4</th>\n",
       "      <td>ชาย</td>\n",
       "      <td>19-25 ปี</td>\n",
       "      <td>MCDONALD'S, COCO ichibanya, Ootoya, ตะลิงปลิง,...</td>\n",
       "      <td>MCDONALD'S, COCO ichibanya, เนื้อคู่</td>\n",
       "      <td>MK Gold Restaurant, Oishi Grand Buffet, Scala ...</td>\n",
       "      <td>4.0</td>\n",
       "      <td>3.0</td>\n",
       "      <td>3.0</td>\n",
       "      <td>3.0</td>\n",
       "      <td>4.0</td>\n",
       "      <td>...</td>\n",
       "      <td>3.0</td>\n",
       "      <td>4.0</td>\n",
       "      <td>NaN</td>\n",
       "      <td>4.0</td>\n",
       "      <td>NaN</td>\n",
       "      <td>4.0</td>\n",
       "      <td>NaN</td>\n",
       "      <td>4.0</td>\n",
       "      <td>NaN</td>\n",
       "      <td>NaN</td>\n",
       "    </tr>\n",
       "  </tbody>\n",
       "</table>\n",
       "<p>5 rows × 66 columns</p>\n",
       "</div>"
      ],
      "text/plain": [
       "  Gender       Age                                  LatestRestaurants  \\\n",
       "0   หญิง  19-25 ปี  Another Hound, MCDONALD'S, Burger King, Subway...   \n",
       "1   หญิง  19-25 ปี  Four Season, Subway, Tacobell, Evaime Shabu, V...   \n",
       "2   หญิง  19-25 ปี  แหลมเจริญซีฟู้ด, Ootoya, บ้านไอซ์, Veganarie, ...   \n",
       "3   หญิง  19-25 ปี   Mos Burger, Subway, Ootoya, รสนิยม, Viet cuisine   \n",
       "4    ชาย  19-25 ปี  MCDONALD'S, COCO ichibanya, Ootoya, ตะลิงปลิง,...   \n",
       "\n",
       "                                         Top3Fav  \\\n",
       "0  Another Hound, แหลมเจริญซีฟู้ด, Bankara Ramen   \n",
       "1        Four Season, แหลมเจริญซีฟู้ด, Veganarie   \n",
       "2                Ootoya, Veganarie, Viet cuisine   \n",
       "3          Subway, แหลมเจริญซีฟู้ด, Viet cuisine   \n",
       "4           MCDONALD'S, COCO ichibanya, เนื้อคู่   \n",
       "\n",
       "                                           Top3Unfav  Another Hound  \\\n",
       "0                       Chabuton, Sabotan, Sushi Den            5.0   \n",
       "1                          MCDONALD'S, KFC, ฝ้ายซอคำ            4.0   \n",
       "2             KFC, Oishi Grand Buffet, Wa Q Yakiniku            4.0   \n",
       "3        Oishi Grand Buffet, Crab & Claw, เตี๋ยวตาโต            4.0   \n",
       "4  MK Gold Restaurant, Oishi Grand Buffet, Scala ...            4.0   \n",
       "\n",
       "   Four season  Town House  Vivarium  MCDONALD'S  ...  Tudari  Bonchon  \\\n",
       "0          3.0         3.0       3.0         5.0  ...     NaN      4.0   \n",
       "1          5.0         NaN       NaN         1.0  ...     NaN      3.0   \n",
       "2          3.0         NaN       NaN         3.0  ...     NaN      3.0   \n",
       "3          4.0         3.0       3.0         3.0  ...     3.0      4.0   \n",
       "4          3.0         3.0       3.0         4.0  ...     3.0      4.0   \n",
       "\n",
       "   Veganarie  Viet cuisine  La Creperie   Piri Piri flaming grill  Kloset  \\\n",
       "0        NaN           NaN           NaN                      NaN     NaN   \n",
       "1        5.0           4.0           4.0                      NaN     2.0   \n",
       "2        5.0           5.0           3.0                      NaN     NaN   \n",
       "3        4.0           4.0           3.0                      3.0     3.0   \n",
       "4        NaN           4.0           NaN                      4.0     NaN   \n",
       "\n",
       "   Boon Tong Kee  Coffee Beans by Dao  Suki Masa  \n",
       "0            NaN                  NaN        NaN  \n",
       "1            NaN                  NaN        NaN  \n",
       "2            4.0                  NaN        NaN  \n",
       "3            4.0                  NaN        NaN  \n",
       "4            4.0                  NaN        NaN  \n",
       "\n",
       "[5 rows x 66 columns]"
      ]
     },
     "execution_count": 48,
     "metadata": {},
     "output_type": "execute_result"
    }
   ],
   "source": [
    "original_ratings.head()"
   ]
  },
  {
   "cell_type": "code",
   "execution_count": 49,
   "metadata": {},
   "outputs": [],
   "source": [
    "top_3 = get_top_n(get_all_users_predictions(algo), n=3)\n",
    "top3_preds = np.array([[rec[0] for rec in top_3[i]] for i in original_ratings.index])"
   ]
  },
  {
   "cell_type": "code",
   "execution_count": 53,
   "metadata": {},
   "outputs": [
    {
     "data": {
      "text/plain": [
       "array([['COCO ichibanya', 'KFC\\xa0', 'Burger King'],\n",
       "       ['Another Hound', 'Coffee Beans by Dao', 'Veganarie'],\n",
       "       ['Veganarie', 'Another Hound', 'Nara'],\n",
       "       ...,\n",
       "       ['Burger King', 'Mos Burger', 'KFC\\xa0'],\n",
       "       ['Burger King', \"MCDONALD'S\", 'COCO ichibanya'],\n",
       "       ['Veganarie', 'Another Hound', 'Nara']], dtype='<U24')"
      ]
     },
     "execution_count": 53,
     "metadata": {},
     "output_type": "execute_result"
    }
   ],
   "source": [
    "top3_preds"
   ]
  },
  {
   "cell_type": "code",
   "execution_count": 56,
   "metadata": {},
   "outputs": [],
   "source": [
    "loss_acc = []\n",
    "for i in range(len(top3_actual)):\n",
    "    loss_acc.append(my_loss(top3_actual[i], top3_preds[i]))\n",
    "    # hammer_loss from sklearn current'y doesn't support multi-label for now,\n",
    "    # so we need to do it one by one for each user"
   ]
  },
  {
   "cell_type": "code",
   "execution_count": 57,
   "metadata": {},
   "outputs": [
    {
     "data": {
      "text/plain": [
       "0.6525821596244132"
      ]
     },
     "execution_count": 57,
     "metadata": {},
     "output_type": "execute_result"
    }
   ],
   "source": [
    "np.mean(loss_acc)"
   ]
  },
  {
   "cell_type": "code",
   "execution_count": 19,
   "metadata": {},
   "outputs": [
    {
     "data": {
      "text/plain": [
       "0.0"
      ]
     },
     "execution_count": 19,
     "metadata": {},
     "output_type": "execute_result"
    }
   ],
   "source": [
    "min(loss_acc)\n",
    "# This means there's some user that get recommented with 3 restaurants that are in their fav list"
   ]
  },
  {
   "cell_type": "markdown",
   "metadata": {},
   "source": [
    "## Update data (intended to be used by new user)"
   ]
  },
  {
   "cell_type": "code",
   "execution_count": 20,
   "metadata": {},
   "outputs": [],
   "source": [
    "update_data(1, \"Vivarium\", 5.0)"
   ]
  },
  {
   "cell_type": "code",
   "execution_count": 21,
   "metadata": {},
   "outputs": [
    {
     "data": {
      "text/plain": [
       "[Prediction(uid=1, iid='Another Hound', r_ui=None, est=4.774424609547722, details={'was_impossible': False}),\n",
       " Prediction(uid=1, iid='Four season', r_ui=None, est=4.235746953919358, details={'was_impossible': False}),\n",
       " Prediction(uid=1, iid='Town House', r_ui=None, est=3.8194073929836687, details={'was_impossible': False}),\n",
       " Prediction(uid=1, iid='Vivarium', r_ui=None, est=3.978936874763135, details={'was_impossible': False}),\n",
       " Prediction(uid=1, iid=\"MCDONALD'S\", r_ui=None, est=1.6847269196342947, details={'was_impossible': False}),\n",
       " Prediction(uid=1, iid='Burger King', r_ui=None, est=2.1660495919280844, details={'was_impossible': False}),\n",
       " Prediction(uid=1, iid='KFC\\xa0', r_ui=None, est=1.764251940112009, details={'was_impossible': False}),\n",
       " Prediction(uid=1, iid='Mos Burger', r_ui=None, est=2.8020967490751705, details={'was_impossible': False}),\n",
       " Prediction(uid=1, iid='Subway', r_ui=None, est=3.310027168993658, details={'was_impossible': False}),\n",
       " Prediction(uid=1, iid='Tacobell', r_ui=None, est=3.0753605651023057, details={'was_impossible': False}),\n",
       " Prediction(uid=1, iid='MK Gold Restaurant', r_ui=None, est=3.5237508763318086, details={'was_impossible': False}),\n",
       " Prediction(uid=1, iid='Evaime Shabu', r_ui=None, est=3.1205207847253416, details={'was_impossible': False}),\n",
       " Prediction(uid=1, iid='Oishi Grand Buffet', r_ui=None, est=3.1062689499832175, details={'was_impossible': False}),\n",
       " Prediction(uid=1, iid='Wa Q Yakiniku', r_ui=None, est=2.905488285922873, details={'was_impossible': False}),\n",
       " Prediction(uid=1, iid='Crab & Claw', r_ui=None, est=3.523988053516016, details={'was_impossible': False}),\n",
       " Prediction(uid=1, iid='แหลมเจริญซีฟู๊ด', r_ui=None, est=4.097349874780927, details={'was_impossible': False}),\n",
       " Prediction(uid=1, iid='FUJI JAPANESE RESTAURANT', r_ui=None, est=3.423722046129312, details={'was_impossible': False}),\n",
       " Prediction(uid=1, iid='Mugendai Steakhouse', r_ui=None, est=3.395604336211133, details={'was_impossible': False}),\n",
       " Prediction(uid=1, iid='The Grill Tokyo', r_ui=None, est=3.5556621225268894, details={'was_impossible': False}),\n",
       " Prediction(uid=1, iid='AOI', r_ui=None, est=3.7424742097193193, details={'was_impossible': False}),\n",
       " Prediction(uid=1, iid='Camp Curry', r_ui=None, est=2.582597162735667, details={'was_impossible': False}),\n",
       " Prediction(uid=1, iid='Chabuton', r_ui=None, est=2.30041156321619, details={'was_impossible': False}),\n",
       " Prediction(uid=1, iid='Honmono Sushi', r_ui=None, est=3.983896652925541, details={'was_impossible': False}),\n",
       " Prediction(uid=1, iid='Saboten', r_ui=None, est=3.432855648560389, details={'was_impossible': False}),\n",
       " Prediction(uid=1, iid='Sushi Den', r_ui=None, est=3.7233250637676796, details={'was_impossible': False}),\n",
       " Prediction(uid=1, iid='Bankara Ramen', r_ui=None, est=3.560860194820827, details={'was_impossible': False}),\n",
       " Prediction(uid=1, iid='FUMI JAPANESE CUISINE', r_ui=None, est=3.164952214202594, details={'was_impossible': False}),\n",
       " Prediction(uid=1, iid='Tenmatsu', r_ui=None, est=2.5813157673733906, details={'was_impossible': False}),\n",
       " Prediction(uid=1, iid='Nantsuttei ramen', r_ui=None, est=3.078416327345415, details={'was_impossible': False}),\n",
       " Prediction(uid=1, iid='COCO ichibanya', r_ui=None, est=2.326221773716224, details={'was_impossible': False}),\n",
       " Prediction(uid=1, iid='Ootoya', r_ui=None, est=3.2629014956727613, details={'was_impossible': False}),\n",
       " Prediction(uid=1, iid='AMICI by Pomodoro', r_ui=None, est=4.090842670012342, details={'was_impossible': False}),\n",
       " Prediction(uid=1, iid='Scoozi Pizza', r_ui=None, est=3.174422153955102, details={'was_impossible': False}),\n",
       " Prediction(uid=1, iid='Signor Sassi', r_ui=None, est=3.4225661551979587, details={'was_impossible': False}),\n",
       " Prediction(uid=1, iid='Chilli Thai Restaurant', r_ui=None, est=3.7012043604091036, details={'was_impossible': False}),\n",
       " Prediction(uid=1, iid='Nara', r_ui=None, est=4.130200565938095, details={'was_impossible': False}),\n",
       " Prediction(uid=1, iid='ตะลิงปลิง', r_ui=None, est=3.622064365355295, details={'was_impossible': False}),\n",
       " Prediction(uid=1, iid='บ้านไอซ์', r_ui=None, est=3.808509605677622, details={'was_impossible': False}),\n",
       " Prediction(uid=1, iid='ฝ้ายซอคำ', r_ui=None, est=2.76511053551769, details={'was_impossible': False}),\n",
       " Prediction(uid=1, iid='ลูกไก่ทอง', r_ui=None, est=4.325089696231216, details={'was_impossible': False}),\n",
       " Prediction(uid=1, iid='MIDTOWN Thai Bistro and Wine bar', r_ui=None, est=2.8686541105285017, details={'was_impossible': False}),\n",
       " Prediction(uid=1, iid='เนื้อคู่', r_ui=None, est=3.348302198056648, details={'was_impossible': False}),\n",
       " Prediction(uid=1, iid='แสนแซ่บ', r_ui=None, est=2.924109739385747, details={'was_impossible': False}),\n",
       " Prediction(uid=1, iid='เตี๋ยวตาโต', r_ui=None, est=2.7577774047844357, details={'was_impossible': False}),\n",
       " Prediction(uid=1, iid='ทองสมิทธิ์', r_ui=None, est=3.7150584657567207, details={'was_impossible': False}),\n",
       " Prediction(uid=1, iid='รสนิยม', r_ui=None, est=4.189229624495773, details={'was_impossible': False}),\n",
       " Prediction(uid=1, iid='ChingchaCharlee', r_ui=None, est=3.328786332806334, details={'was_impossible': False}),\n",
       " Prediction(uid=1, iid='Scala Shark Fin', r_ui=None, est=3.54469457314656, details={'was_impossible': False}),\n",
       " Prediction(uid=1, iid='Wang Jia Sha', r_ui=None, est=3.977123992843855, details={'was_impossible': False}),\n",
       " Prediction(uid=1, iid='ฮั่วเซ่งฮง', r_ui=None, est=3.9805769008623235, details={'was_impossible': False}),\n",
       " Prediction(uid=1, iid='The Bibimbab', r_ui=None, est=3.3692299598993576, details={'was_impossible': False}),\n",
       " Prediction(uid=1, iid='Tudari', r_ui=None, est=2.8088919978158193, details={'was_impossible': False}),\n",
       " Prediction(uid=1, iid='Bonchon', r_ui=None, est=2.967940982670229, details={'was_impossible': False}),\n",
       " Prediction(uid=1, iid='Veganarie', r_ui=None, est=4.483300533434838, details={'was_impossible': False}),\n",
       " Prediction(uid=1, iid='Viet cuisine', r_ui=None, est=3.847552676566337, details={'was_impossible': False}),\n",
       " Prediction(uid=1, iid='La Creperie\\xa0', r_ui=None, est=3.4466234591174025, details={'was_impossible': False}),\n",
       " Prediction(uid=1, iid='Piri Piri flaming grill', r_ui=None, est=3.2658096042127793, details={'was_impossible': False}),\n",
       " Prediction(uid=1, iid='Kloset', r_ui=None, est=3.086533345447352, details={'was_impossible': False}),\n",
       " Prediction(uid=1, iid='Boon Tong Kee', r_ui=None, est=4.123508639849359, details={'was_impossible': False}),\n",
       " Prediction(uid=1, iid='Coffee Beans by Dao', r_ui=None, est=4.530000999738473, details={'was_impossible': False}),\n",
       " Prediction(uid=1, iid='Suki Masa', r_ui=None, est=3.7356956541195627, details={'was_impossible': False})]"
      ]
     },
     "execution_count": 21,
     "metadata": {},
     "output_type": "execute_result"
    }
   ],
   "source": [
    "get_user_prediction(1, algo)\n",
    "# see the result, Vivarium's data is updated for user 1"
   ]
  },
  {
   "cell_type": "markdown",
   "metadata": {},
   "source": [
    "## Get similar user"
   ]
  },
  {
   "cell_type": "code",
   "execution_count": 22,
   "metadata": {},
   "outputs": [
    {
     "data": {
      "text/plain": [
       "[1, 193, 264, 196, 425, 254, 433]"
      ]
     },
     "execution_count": 22,
     "metadata": {},
     "output_type": "execute_result"
    }
   ],
   "source": [
    "similar_user(1, n=7)"
   ]
  },
  {
   "cell_type": "markdown",
   "metadata": {},
   "source": [
    "## Recommend new restaurant for given user"
   ]
  },
  {
   "cell_type": "code",
   "execution_count": 23,
   "metadata": {},
   "outputs": [
    {
     "data": {
      "text/plain": [
       "['Coffee Beans by Dao', 'ลูกไก่ทอง', 'Nara']"
      ]
     },
     "execution_count": 23,
     "metadata": {},
     "output_type": "execute_result"
    }
   ],
   "source": [
    "recommend_new_restaurant(1, n=3)"
   ]
  },
  {
   "cell_type": "code",
   "execution_count": null,
   "metadata": {},
   "outputs": [],
   "source": []
  }
 ],
 "metadata": {
  "kernelspec": {
   "display_name": "Python 3",
   "language": "python",
   "name": "python3"
  },
  "language_info": {
   "codemirror_mode": {
    "name": "ipython",
    "version": 3
   },
   "file_extension": ".py",
   "mimetype": "text/x-python",
   "name": "python",
   "nbconvert_exporter": "python",
   "pygments_lexer": "ipython3",
   "version": "3.8.3"
  }
 },
 "nbformat": 4,
 "nbformat_minor": 4
}
